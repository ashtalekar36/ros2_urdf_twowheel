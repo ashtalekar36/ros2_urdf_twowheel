{
  "nbformat": 4,
  "nbformat_minor": 0,
  "metadata": {
    "colab": {
      "provenance": [],
      "authorship_tag": "ABX9TyN+7LpjcWmjK969AEXduz8V"
    },
    "kernelspec": {
      "name": "python3",
      "display_name": "Python 3"
    },
    "language_info": {
      "name": "python"
    }
  },
  "cells": [
    {
      "cell_type": "markdown",
      "source": [
        "**URDF**"
      ],
      "metadata": {
        "id": "rnhM3JqZwi3t"
      }
    },
    {
      "cell_type": "markdown",
      "source": [
        "***TO CREATE A URDF FILE ***\n"
      ],
      "metadata": {
        "id": "L1EHe7uoxVnk"
      }
    },
    {
      "cell_type": "code",
      "source": [
        "touch myrobot.urdf    #this will create a file in ur home directory\n"
      ],
      "metadata": {
        "id": "4rn5Nmj7xYtD"
      },
      "execution_count": null,
      "outputs": []
    },
    {
      "cell_type": "markdown",
      "source": [
        " **TO EDIT THE FILE**"
      ],
      "metadata": {
        "id": "cAjt0cnAxjJe"
      }
    },
    {
      "cell_type": "code",
      "source": [
        "code my_robot.urdf"
      ],
      "metadata": {
        "id": "F1wXCWx1xqW3"
      },
      "execution_count": null,
      "outputs": []
    },
    {
      "cell_type": "markdown",
      "source": [
        "***TO INSTALL ***"
      ],
      "metadata": {
        "id": "15ma2Bm8zWye"
      }
    },
    {
      "cell_type": "code",
      "source": [
        "sudo apt install ros-humble-urdf-tutorial"
      ],
      "metadata": {
        "id": "OBHUZitKzZgD"
      },
      "execution_count": null,
      "outputs": []
    },
    {
      "cell_type": "markdown",
      "source": [
        "***Source It***"
      ],
      "metadata": {
        "id": "I6Em5KsQzjJ0"
      }
    },
    {
      "cell_type": "code",
      "source": [
        "source /opt/ros/humble/setup.bash"
      ],
      "metadata": {
        "id": "uus_i7mszpg7"
      },
      "execution_count": null,
      "outputs": []
    },
    {
      "cell_type": "markdown",
      "source": [
        "***TO CHECK THE PATH DIR OF THWE FILE ***"
      ],
      "metadata": {
        "id": "xhWGUZ_uyGae"
      }
    },
    {
      "cell_type": "code",
      "source": [
        "ls\n",
        "pwd"
      ],
      "metadata": {
        "id": "fFCUhiBnyJ41"
      },
      "execution_count": null,
      "outputs": []
    },
    {
      "cell_type": "markdown",
      "source": [
        "***TO LAUNCH THAT URDF FILE USE THIS COMMAND ***\n"
      ],
      "metadata": {
        "id": "5JEvIjntw-CG"
      }
    },
    {
      "cell_type": "code",
      "source": [
        "ros2 launch urdf_tutorial display.launch.py model:=/home/ed/ashish/my_robot.urdf   #here check the path according to ur dir by using pwd command"
      ],
      "metadata": {
        "id": "sJ_9t65nxKKL"
      },
      "execution_count": null,
      "outputs": []
    },
    {
      "cell_type": "markdown",
      "source": [
        "***to create pdf ***"
      ],
      "metadata": {
        "id": "sR4m9Mzf0hFk"
      }
    },
    {
      "cell_type": "code",
      "source": [
        "ros2 run tf2_tools view_frames  #to seee the relationship between parent and children"
      ],
      "metadata": {
        "id": "vJOPE16u0j9w"
      },
      "execution_count": null,
      "outputs": []
    },
    {
      "cell_type": "markdown",
      "source": [
        "**DOCUMENTATION **"
      ],
      "metadata": {
        "id": "8f9IYarQ1Lzp"
      }
    },
    {
      "cell_type": "code",
      "source": [
        "http://wiki.ros.org/urdf/XML/link"
      ],
      "metadata": {
        "id": "QowlrfjF1P1n"
      },
      "execution_count": null,
      "outputs": []
    },
    {
      "cell_type": "markdown",
      "source": [],
      "metadata": {
        "id": "gNAFo3QT1SxR"
      }
    },
    {
      "cell_type": "markdown",
      "source": [
        "**THIS CONTAINS THE URDF CODE FOR A TWO WHEEL ROBOT**\n"
      ],
      "metadata": {
        "id": "380kpR0dw2u_"
      }
    },
    {
      "cell_type": "code",
      "execution_count": null,
      "metadata": {
        "id": "B1ibo9DrwiGI"
      },
      "outputs": [],
      "source": [
        "<?xml version=\"1.0\"?>\n",
        "<robot name=\"my_robot\">\n",
        "\n",
        "    <material name=\"grey\">\n",
        "        <color rgba=\"0.7 0.7 0.7 1.0\"/>\n",
        "    </material>\n",
        "\n",
        "    <material name=\"green\">\n",
        "        <color rgba=\"0.0 0.6 0.0 1.0\"/>\n",
        "    </material>\n",
        "\n",
        "    <material name=\"white\">\n",
        "        <color rgba=\"1.0 1.0 1.0 1.0\"/>\n",
        "    </material>\n",
        "\n",
        "\n",
        "    <link name=\"base_footprint\"/>\n",
        "\n",
        "    <link name=\"base_link\">\n",
        "        <visual>\n",
        "            <geometry>\n",
        "                <box size=\"0.6 0.4 0.2\" />\n",
        "            </geometry>\n",
        "            <origin xyz=\"0 0 0.1\" rpy=\"0 0 0\"/>\n",
        "            <material name=\"green\"/>\n",
        "        </visual>\n",
        "    </link>\n",
        "\n",
        "    <link name= \"lidar\">\n",
        "        <visual>\n",
        "            <geometry>\n",
        "                <cylinder radius=\"0.1\" length=\"0.05\"/>\n",
        "            </geometry>\n",
        "            <origin xyz=\"0 0 0\" rpy=\"0 0 0\"/>\n",
        "            <material name=\"white\"/>\n",
        "        </visual>\n",
        "    </link>\n",
        "\n",
        "    <link name=\"caster_wheel\">\n",
        "        <visual>\n",
        "            <geometry>\n",
        "                <sphere radius=\"0.05\"/>\n",
        "            </geometry>\n",
        "            <origin xyz=\"0.0 0.0 0.0\" rpy=\"0.0 0.0 0.0\"/>\n",
        "            <material name=\"grey\" />\n",
        "        </visual>\n",
        "    </link>\n",
        "\n",
        "    <link name=\"left_wheel\">\n",
        "        <visual>\n",
        "            <geometry>\n",
        "                <cylinder radius=\"0.1\" length=\"0.05\"/>\n",
        "            </geometry>\n",
        "            <origin xyz=\"0.0 0.0 0.0\" rpy=\"1.57 0.0 0.0\"/>\n",
        "            <material name=\"grey\" />\n",
        "        </visual>\n",
        "    </link>\n",
        "\n",
        "    <link name=\"right_wheel\">\n",
        "        <visual>\n",
        "            <geometry>\n",
        "                <cylinder radius=\"0.1\" length=\"0.05\"/>\n",
        "            </geometry>\n",
        "            <origin xyz=\"0.0 0.0 0.0\" rpy=\"1.57 0.0 0.0\"/>\n",
        "            <material name=\"grey\" />\n",
        "        </visual>\n",
        "    </link>\n",
        "\n",
        "\n",
        "    <joint name=\"base_joint\" type=\"fixed\">\n",
        "        <parent link=\"base_footprint\"/>\n",
        "        <child link=\"base_link\"/>\n",
        "        <origin xyz=\"0.0 0.0 0.1\" rpy=\"0.0 0.0 0.0\"/>\n",
        "    </joint>\n",
        "\n",
        "    <joint name=\"base_lidar_joint\" type=\"fixed\">\n",
        "        <parent link=\"base_link\" />\n",
        "        <child link=\"lidar\" />\n",
        "        <origin xyz=\"0 0 0.225\" rpy=\"0 0 0\" />\n",
        "\n",
        "    </joint>\n",
        "\n",
        "    <joint name=\"base_left_wheel_joint\" type=\"continuous\">\n",
        "        <parent link=\"base_link\"/>\n",
        "        <child link=\"left_wheel\"/>\n",
        "        <origin xyz=\"-0.15 0.225 0.0\" rpy=\"0.0 0.0 0.0\"/>\n",
        "        <axis xyz=\"0.0 1.0 0.0\"/>\n",
        "    </joint>\n",
        "\n",
        "    <joint name=\"base_right_wheel_joint\" type=\"continuous\">\n",
        "        <parent link=\"base_link\"/>\n",
        "        <child link=\"right_wheel\"/>\n",
        "        <origin xyz=\"-0.15 -0.225 0.0\" rpy=\"0.0 0.0 0.0\"/>\n",
        "        <axis xyz=\"0.0 1.0 0.0\"/>\n",
        "    </joint>\n",
        "\n",
        "    <joint name=\"base_caster_wheel_joint\" type=\"fixed\">\n",
        "        <origin xyz=\"0.2 0.0 -0.05\" rpy=\"0.0 0.0 0.0\"/>\n",
        "        <parent link=\"base_link\"/>\n",
        "        <child link=\"caster_wheel\"/>\n",
        "\n",
        "    </joint>\n",
        "\n",
        "</robot>\n"
      ]
    }
  ]
}